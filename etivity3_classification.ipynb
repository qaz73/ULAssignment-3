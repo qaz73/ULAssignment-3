{
 "cells": [
  {
   "metadata": {},
   "cell_type": "markdown",
   "source": [
    "# E-tivity 3 : Gerard O'Rourke, Student number : 24514772\n",
    "This\n",
    "workbook is\n",
    "for E - tivity3.It follows the following structure\n",
    "1.\n",
    "The\n",
    "workbook\n",
    "environment is setup\n",
    "1.\n",
    "The\n",
    "next\n",
    "section\n",
    "has\n",
    "some\n",
    "EDA\n",
    "related\n",
    "to\n",
    "this\n",
    "E - tivity\n",
    "1.\n",
    "Each\n",
    "task\n",
    "for this E - tivity then follows"
   ],
   "id": "5af8dc7abe90be7c"
  },
  {
   "metadata": {},
   "cell_type": "markdown",
   "source": "Setup",
   "id": "f4059901a230c6d8"
  },
  {
   "metadata": {
    "ExecuteTime": {
     "end_time": "2025-04-19T13:37:04.400564Z",
     "start_time": "2025-04-19T13:37:04.395859Z"
    }
   },
   "cell_type": "code",
   "source": [
    "import pandas as pd\n",
    "import numpy as np\n",
    "import matplotlib.pyplot as plt\n",
    "import seaborn as sns\n",
    "import sklearn\n",
    "from sklearn import manifold #needed for multidimensional scaling (MDS) and t-SNE\n",
    "from sklearn import cluster #needed for k-Means clustering\n",
    "from sklearn.preprocessing import OneHotEncoder,LabelEncoder,MinMaxScaler, StandardScaler, RobustScaler, FunctionTransformer #needed for data preparation\n",
    "\n",
    "from sklearn.impute import SimpleImputer\n",
    "from sklearn.pipeline import Pipeline, make_pipeline\n",
    "from sklearn.compose import ColumnTransformer\n",
    "from sklearn.cluster import KMeans,DBSCAN\n",
    "from sklearn.metrics import silhouette_score\n",
    "from sklearn.linear_model import LogisticRegression\n",
    "from sklearn import metrics\n",
    "from sklearn import set_config\n",
    "from kneed import KneeLocator\n",
    "from sklearn.decomposition import PCA\n",
    "from sklearn.neighbors import NearestNeighbors\n",
    "from sklearn.preprocessing import OrdinalEncoder\n",
    "from sklearn.decomposition import PCA\n",
    "\n",
    "print(sklearn.__version__)\n",
    "\n",
    "# needed for changing Ordinal values - see education\n",
    "pd.set_option(\"future.no_silent_downcasting\", True)\n",
    "#sklearn.set_config(enable_metadata_routing=True)\n",
    "set_config(transform_output='pandas')\n"
   ],
   "id": "4107b3d97e1c6060",
   "outputs": [
    {
     "name": "stdout",
     "output_type": "stream",
     "text": [
      "1.6.1\n"
     ]
    }
   ],
   "execution_count": 73
  },
  {
   "metadata": {},
   "cell_type": "markdown",
   "source": [
    "#### Setup Environment\n",
    "Load the data and keep a copy"
   ],
   "id": "d8ed15f1f90c090b"
  },
  {
   "metadata": {
    "ExecuteTime": {
     "end_time": "2025-04-19T13:37:04.427814Z",
     "start_time": "2025-04-19T13:37:04.423221Z"
    }
   },
   "cell_type": "code",
   "source": [
    "# Load the dataset\n",
    "df = pd.read_csv(\"./insurance.csv\")\n",
    "\n",
    "# keep a copy\n",
    "df_original = df\n",
    "\n",
    "print('(number of examples, number of attributes): ', df.shape)"
   ],
   "id": "28d205dc8ba5fca1",
   "outputs": [
    {
     "name": "stdout",
     "output_type": "stream",
     "text": [
      "(number of examples, number of attributes):  (1338, 7)\n"
     ]
    }
   ],
   "execution_count": 74
  },
  {
   "metadata": {},
   "cell_type": "markdown",
   "source": "EDA",
   "id": "db929ebcd4412b21"
  },
  {
   "metadata": {
    "ExecuteTime": {
     "end_time": "2025-04-19T13:37:04.449148Z",
     "start_time": "2025-04-19T13:37:04.445055Z"
    }
   },
   "cell_type": "code",
   "source": "df.head()",
   "id": "902467c183801b5e",
   "outputs": [
    {
     "data": {
      "text/plain": [
       "   age  gender     bmi  children smoker     region  insurance_cost\n",
       "0   18    male  33.770         1     no  southeast      1725.55230\n",
       "1   18    male  34.100         0     no  southeast      1137.01100\n",
       "2   18  female  26.315         0     no  northeast      2198.18985\n",
       "3   18  female  38.665         2     no  northeast      3393.35635\n",
       "4   18  female  35.625         0     no  northeast      2211.13075"
      ],
      "text/html": [
       "<div>\n",
       "<style scoped>\n",
       "    .dataframe tbody tr th:only-of-type {\n",
       "        vertical-align: middle;\n",
       "    }\n",
       "\n",
       "    .dataframe tbody tr th {\n",
       "        vertical-align: top;\n",
       "    }\n",
       "\n",
       "    .dataframe thead th {\n",
       "        text-align: right;\n",
       "    }\n",
       "</style>\n",
       "<table border=\"1\" class=\"dataframe\">\n",
       "  <thead>\n",
       "    <tr style=\"text-align: right;\">\n",
       "      <th></th>\n",
       "      <th>age</th>\n",
       "      <th>gender</th>\n",
       "      <th>bmi</th>\n",
       "      <th>children</th>\n",
       "      <th>smoker</th>\n",
       "      <th>region</th>\n",
       "      <th>insurance_cost</th>\n",
       "    </tr>\n",
       "  </thead>\n",
       "  <tbody>\n",
       "    <tr>\n",
       "      <th>0</th>\n",
       "      <td>18</td>\n",
       "      <td>male</td>\n",
       "      <td>33.770</td>\n",
       "      <td>1</td>\n",
       "      <td>no</td>\n",
       "      <td>southeast</td>\n",
       "      <td>1725.55230</td>\n",
       "    </tr>\n",
       "    <tr>\n",
       "      <th>1</th>\n",
       "      <td>18</td>\n",
       "      <td>male</td>\n",
       "      <td>34.100</td>\n",
       "      <td>0</td>\n",
       "      <td>no</td>\n",
       "      <td>southeast</td>\n",
       "      <td>1137.01100</td>\n",
       "    </tr>\n",
       "    <tr>\n",
       "      <th>2</th>\n",
       "      <td>18</td>\n",
       "      <td>female</td>\n",
       "      <td>26.315</td>\n",
       "      <td>0</td>\n",
       "      <td>no</td>\n",
       "      <td>northeast</td>\n",
       "      <td>2198.18985</td>\n",
       "    </tr>\n",
       "    <tr>\n",
       "      <th>3</th>\n",
       "      <td>18</td>\n",
       "      <td>female</td>\n",
       "      <td>38.665</td>\n",
       "      <td>2</td>\n",
       "      <td>no</td>\n",
       "      <td>northeast</td>\n",
       "      <td>3393.35635</td>\n",
       "    </tr>\n",
       "    <tr>\n",
       "      <th>4</th>\n",
       "      <td>18</td>\n",
       "      <td>female</td>\n",
       "      <td>35.625</td>\n",
       "      <td>0</td>\n",
       "      <td>no</td>\n",
       "      <td>northeast</td>\n",
       "      <td>2211.13075</td>\n",
       "    </tr>\n",
       "  </tbody>\n",
       "</table>\n",
       "</div>"
      ]
     },
     "execution_count": 75,
     "metadata": {},
     "output_type": "execute_result"
    }
   ],
   "execution_count": 75
  },
  {
   "metadata": {
    "ExecuteTime": {
     "end_time": "2025-04-19T13:37:04.479218Z",
     "start_time": "2025-04-19T13:37:04.476251Z"
    }
   },
   "cell_type": "code",
   "source": "df.tail()",
   "id": "78f2332473da58a7",
   "outputs": [
    {
     "data": {
      "text/plain": [
       "      age  gender     bmi  children smoker     region  insurance_cost\n",
       "1333   64  female  31.825         2     no  northeast     16069.08475\n",
       "1334   64  female  26.885         0    yes  northwest     29330.98315\n",
       "1335   64    male  26.410         0     no  northeast     14394.55790\n",
       "1336   64    male  36.960         2    yes  southeast     49577.66240\n",
       "1337   64    male  23.760         0    yes  southeast     26926.51440"
      ],
      "text/html": [
       "<div>\n",
       "<style scoped>\n",
       "    .dataframe tbody tr th:only-of-type {\n",
       "        vertical-align: middle;\n",
       "    }\n",
       "\n",
       "    .dataframe tbody tr th {\n",
       "        vertical-align: top;\n",
       "    }\n",
       "\n",
       "    .dataframe thead th {\n",
       "        text-align: right;\n",
       "    }\n",
       "</style>\n",
       "<table border=\"1\" class=\"dataframe\">\n",
       "  <thead>\n",
       "    <tr style=\"text-align: right;\">\n",
       "      <th></th>\n",
       "      <th>age</th>\n",
       "      <th>gender</th>\n",
       "      <th>bmi</th>\n",
       "      <th>children</th>\n",
       "      <th>smoker</th>\n",
       "      <th>region</th>\n",
       "      <th>insurance_cost</th>\n",
       "    </tr>\n",
       "  </thead>\n",
       "  <tbody>\n",
       "    <tr>\n",
       "      <th>1333</th>\n",
       "      <td>64</td>\n",
       "      <td>female</td>\n",
       "      <td>31.825</td>\n",
       "      <td>2</td>\n",
       "      <td>no</td>\n",
       "      <td>northeast</td>\n",
       "      <td>16069.08475</td>\n",
       "    </tr>\n",
       "    <tr>\n",
       "      <th>1334</th>\n",
       "      <td>64</td>\n",
       "      <td>female</td>\n",
       "      <td>26.885</td>\n",
       "      <td>0</td>\n",
       "      <td>yes</td>\n",
       "      <td>northwest</td>\n",
       "      <td>29330.98315</td>\n",
       "    </tr>\n",
       "    <tr>\n",
       "      <th>1335</th>\n",
       "      <td>64</td>\n",
       "      <td>male</td>\n",
       "      <td>26.410</td>\n",
       "      <td>0</td>\n",
       "      <td>no</td>\n",
       "      <td>northeast</td>\n",
       "      <td>14394.55790</td>\n",
       "    </tr>\n",
       "    <tr>\n",
       "      <th>1336</th>\n",
       "      <td>64</td>\n",
       "      <td>male</td>\n",
       "      <td>36.960</td>\n",
       "      <td>2</td>\n",
       "      <td>yes</td>\n",
       "      <td>southeast</td>\n",
       "      <td>49577.66240</td>\n",
       "    </tr>\n",
       "    <tr>\n",
       "      <th>1337</th>\n",
       "      <td>64</td>\n",
       "      <td>male</td>\n",
       "      <td>23.760</td>\n",
       "      <td>0</td>\n",
       "      <td>yes</td>\n",
       "      <td>southeast</td>\n",
       "      <td>26926.51440</td>\n",
       "    </tr>\n",
       "  </tbody>\n",
       "</table>\n",
       "</div>"
      ]
     },
     "execution_count": 76,
     "metadata": {},
     "output_type": "execute_result"
    }
   ],
   "execution_count": 76
  },
  {
   "metadata": {
    "ExecuteTime": {
     "end_time": "2025-04-19T13:37:04.523918Z",
     "start_time": "2025-04-19T13:37:04.518424Z"
    }
   },
   "cell_type": "code",
   "source": "df.describe()",
   "id": "e3379e1ed0d16efc",
   "outputs": [
    {
     "data": {
      "text/plain": [
       "               age          bmi     children  insurance_cost\n",
       "count  1338.000000  1338.000000  1338.000000     1338.000000\n",
       "mean     39.207025    30.663397     1.094918    13270.422265\n",
       "std      14.049960     6.098187     1.205493    12110.011237\n",
       "min      18.000000    15.960000     0.000000     1121.873900\n",
       "25%      27.000000    26.296250     0.000000     4740.287150\n",
       "50%      39.000000    30.400000     1.000000     9382.033000\n",
       "75%      51.000000    34.693750     2.000000    16639.912515\n",
       "max      64.000000    53.130000     5.000000    63770.428010"
      ],
      "text/html": [
       "<div>\n",
       "<style scoped>\n",
       "    .dataframe tbody tr th:only-of-type {\n",
       "        vertical-align: middle;\n",
       "    }\n",
       "\n",
       "    .dataframe tbody tr th {\n",
       "        vertical-align: top;\n",
       "    }\n",
       "\n",
       "    .dataframe thead th {\n",
       "        text-align: right;\n",
       "    }\n",
       "</style>\n",
       "<table border=\"1\" class=\"dataframe\">\n",
       "  <thead>\n",
       "    <tr style=\"text-align: right;\">\n",
       "      <th></th>\n",
       "      <th>age</th>\n",
       "      <th>bmi</th>\n",
       "      <th>children</th>\n",
       "      <th>insurance_cost</th>\n",
       "    </tr>\n",
       "  </thead>\n",
       "  <tbody>\n",
       "    <tr>\n",
       "      <th>count</th>\n",
       "      <td>1338.000000</td>\n",
       "      <td>1338.000000</td>\n",
       "      <td>1338.000000</td>\n",
       "      <td>1338.000000</td>\n",
       "    </tr>\n",
       "    <tr>\n",
       "      <th>mean</th>\n",
       "      <td>39.207025</td>\n",
       "      <td>30.663397</td>\n",
       "      <td>1.094918</td>\n",
       "      <td>13270.422265</td>\n",
       "    </tr>\n",
       "    <tr>\n",
       "      <th>std</th>\n",
       "      <td>14.049960</td>\n",
       "      <td>6.098187</td>\n",
       "      <td>1.205493</td>\n",
       "      <td>12110.011237</td>\n",
       "    </tr>\n",
       "    <tr>\n",
       "      <th>min</th>\n",
       "      <td>18.000000</td>\n",
       "      <td>15.960000</td>\n",
       "      <td>0.000000</td>\n",
       "      <td>1121.873900</td>\n",
       "    </tr>\n",
       "    <tr>\n",
       "      <th>25%</th>\n",
       "      <td>27.000000</td>\n",
       "      <td>26.296250</td>\n",
       "      <td>0.000000</td>\n",
       "      <td>4740.287150</td>\n",
       "    </tr>\n",
       "    <tr>\n",
       "      <th>50%</th>\n",
       "      <td>39.000000</td>\n",
       "      <td>30.400000</td>\n",
       "      <td>1.000000</td>\n",
       "      <td>9382.033000</td>\n",
       "    </tr>\n",
       "    <tr>\n",
       "      <th>75%</th>\n",
       "      <td>51.000000</td>\n",
       "      <td>34.693750</td>\n",
       "      <td>2.000000</td>\n",
       "      <td>16639.912515</td>\n",
       "    </tr>\n",
       "    <tr>\n",
       "      <th>max</th>\n",
       "      <td>64.000000</td>\n",
       "      <td>53.130000</td>\n",
       "      <td>5.000000</td>\n",
       "      <td>63770.428010</td>\n",
       "    </tr>\n",
       "  </tbody>\n",
       "</table>\n",
       "</div>"
      ]
     },
     "execution_count": 77,
     "metadata": {},
     "output_type": "execute_result"
    }
   ],
   "execution_count": 77
  },
  {
   "metadata": {
    "ExecuteTime": {
     "end_time": "2025-04-19T13:37:04.594898Z",
     "start_time": "2025-04-19T13:37:04.591882Z"
    }
   },
   "cell_type": "code",
   "source": "df.isna().sum()",
   "id": "14563e20379b952a",
   "outputs": [
    {
     "data": {
      "text/plain": [
       "age               0\n",
       "gender            0\n",
       "bmi               0\n",
       "children          0\n",
       "smoker            0\n",
       "region            0\n",
       "insurance_cost    0\n",
       "dtype: int64"
      ]
     },
     "execution_count": 78,
     "metadata": {},
     "output_type": "execute_result"
    }
   ],
   "execution_count": 78
  },
  {
   "metadata": {},
   "cell_type": "code",
   "outputs": [],
   "execution_count": null,
   "source": [
    "numerical_attribute = ['age','bmi','children']\n",
    "\n",
    "categorical_attribute=['gender','smoker','region']"
   ],
   "id": "7b36e1b5ad0c4d8c"
  },
  {
   "metadata": {
    "ExecuteTime": {
     "end_time": "2025-04-19T13:37:04.654234Z",
     "start_time": "2025-04-19T13:37:04.651356Z"
    }
   },
   "cell_type": "code",
   "source": "df['gender'].value_counts()",
   "id": "a5f61f79005dfcd6",
   "outputs": [
    {
     "data": {
      "text/plain": [
       "gender\n",
       "male      676\n",
       "female    662\n",
       "Name: count, dtype: int64"
      ]
     },
     "execution_count": 79,
     "metadata": {},
     "output_type": "execute_result"
    }
   ],
   "execution_count": 79
  },
  {
   "metadata": {
    "ExecuteTime": {
     "end_time": "2025-04-19T13:37:04.705893Z",
     "start_time": "2025-04-19T13:37:04.702999Z"
    }
   },
   "cell_type": "code",
   "source": "df['smoker'].value_counts()",
   "id": "73847ef6e0f6379d",
   "outputs": [
    {
     "data": {
      "text/plain": [
       "smoker\n",
       "no     1064\n",
       "yes     274\n",
       "Name: count, dtype: int64"
      ]
     },
     "execution_count": 80,
     "metadata": {},
     "output_type": "execute_result"
    }
   ],
   "execution_count": 80
  },
  {
   "metadata": {
    "ExecuteTime": {
     "end_time": "2025-04-19T13:37:04.829771Z",
     "start_time": "2025-04-19T13:37:04.827544Z"
    }
   },
   "cell_type": "code",
   "source": "df['region'].value_counts()",
   "id": "3a850eb4db21e786",
   "outputs": [
    {
     "data": {
      "text/plain": [
       "region\n",
       "southeast    364\n",
       "southwest    325\n",
       "northwest    325\n",
       "northeast    324\n",
       "Name: count, dtype: int64"
      ]
     },
     "execution_count": 81,
     "metadata": {},
     "output_type": "execute_result"
    }
   ],
   "execution_count": 81
  },
  {
   "metadata": {
    "ExecuteTime": {
     "end_time": "2025-04-19T13:37:04.915311Z",
     "start_time": "2025-04-19T13:37:04.859051Z"
    }
   },
   "cell_type": "code",
   "source": [
    "sns.boxplot(data=df)\n",
    "plt.show()"
   ],
   "id": "2862b3e3d17ab87c",
   "outputs": [
    {
     "data": {
      "text/plain": [
       "<Figure size 640x480 with 1 Axes>"
      ],
      "image/png": "[encoded data removed]"
     },
     "metadata": {},
     "output_type": "display_data"
    }
   ],
   "execution_count": 82
  },
  {
   "metadata": {},
   "cell_type": "code",
   "outputs": [],
   "execution_count": null,
   "source": [
    "columns_no_outliers = ['age','children']\n",
    "columns_outliers_and_zeros = []\n",
    "columns_outliers_no_zeros=['bmi']\n",
    "\n",
    "outliers_no_zeros_pipeline = Pipeline(\n",
    "    steps = [\n",
    "        (\"log_transform\", FunctionTransformer(np.log)),\n",
    "        (\"scaler\", RobustScaler())\n",
    "    ]\n",
    ")\n",
    "\n",
    "outliers_and_zeros_pipeline = Pipeline(\n",
    "    steps = [\n",
    "        (\"cubic_root_transform\", FunctionTransformer(np.cbrt)),\n",
    "        (\"scaler\", RobustScaler())\n",
    "    ]\n",
    ")\n",
    "\n",
    "preprocess_pipeline = ColumnTransformer(\n",
    "    transformers = [\n",
    "        (\"outliers_no_zeros\", outliers_no_zeros_pipeline, columns_outliers_no_zeros),\n",
    "        (\"outliers_and_zeros\", outliers_and_zeros_pipeline, columns_outliers_and_zeros),\n",
    "        (\"no_outliers\", FunctionTransformer(np.cbrt), columns_no_outliers)\n",
    "    ],\n",
    "    remainder=\"passthrough\" # note there are no remaining columns in this example\n",
    ")"
   ],
   "id": "88aabadcf2815c52"
  },
  {
   "metadata": {
    "ExecuteTime": {
     "end_time": "2025-04-19T13:37:05.132519Z",
     "start_time": "2025-04-19T13:37:04.943144Z"
    }
   },
   "cell_type": "code",
   "source": [
    "df.select_dtypes(include='number').hist(bins=10, figsize=(25, 20))\n",
    "plt.show()"
   ],
   "id": "844700af8c95fe14",
   "outputs": [
    {
     "data": {
      "text/plain": [
       "<Figure size 2500x2000 with 4 Axes>"
      ],
      "image/png": "[encoded data removed]"
     },
     "metadata": {},
     "output_type": "display_data"
    }
   ],
   "execution_count": 83
  },
  {
   "metadata": {},
   "cell_type": "markdown",
   "source": "Data Preparation",
   "id": "b7239ed889f302b2"
  },
  {
   "metadata": {
    "ExecuteTime": {
     "end_time": "2025-04-19T13:37:05.152479Z",
     "start_time": "2025-04-19T13:37:05.148820Z"
    }
   },
   "cell_type": "code",
   "source": [
    "\n",
    "# Step 1: Calculate the median\n",
    "median_cost = df['insurance_cost'].median()\n",
    "print (f\"Median Cost {median_cost}\")\n",
    "# compare cost against median, convert True / false to 1 / 0\n",
    "df['insurance_cost_binary'] = (df['insurance_cost'] > median_cost).astype(int)\n",
    "\n",
    "y = df['insurance_cost_binary'];\n",
    "X = df.drop('insurance_cost_binary',axis=1);\n",
    "\n",
    "print(df)\n"
   ],
   "id": "94fc65ef8cf1dd97",
   "outputs": [
    {
     "name": "stdout",
     "output_type": "stream",
     "text": [
      "Median Cost 9382.033\n",
      "      age  gender     bmi  children smoker     region  insurance_cost  \\\n",
      "0      18    male  33.770         1     no  southeast      1725.55230   \n",
      "1      18    male  34.100         0     no  southeast      1137.01100   \n",
      "2      18  female  26.315         0     no  northeast      2198.18985   \n",
      "3      18  female  38.665         2     no  northeast      3393.35635   \n",
      "4      18  female  35.625         0     no  northeast      2211.13075   \n",
      "...   ...     ...     ...       ...    ...        ...             ...   \n",
      "1333   64  female  31.825         2     no  northeast     16069.08475   \n",
      "1334   64  female  26.885         0    yes  northwest     29330.98315   \n",
      "1335   64    male  26.410         0     no  northeast     14394.55790   \n",
      "1336   64    male  36.960         2    yes  southeast     49577.66240   \n",
      "1337   64    male  23.760         0    yes  southeast     26926.51440   \n",
      "\n",
      "      insurance_cost_binary  \n",
      "0                         0  \n",
      "1                         0  \n",
      "2                         0  \n",
      "3                         0  \n",
      "4                         0  \n",
      "...                     ...  \n",
      "1333                      1  \n",
      "1334                      1  \n",
      "1335                      1  \n",
      "1336                      1  \n",
      "1337                      1  \n",
      "\n",
      "[1338 rows x 8 columns]\n"
     ]
    }
   ],
   "execution_count": 84
  },
  {
   "metadata": {},
   "cell_type": "markdown",
   "source": [
    "#### Data Dictionary / Columns (https://www.kaggle.com/datasets/mirichoi0218/insurance)\n",
    "\n",
    "1. age: age of primary beneficiary\n",
    "1. sex: insurance contractor gender, female, male\n",
    "1. bmi: Body mass index, providing an understanding of body, weights that are relatively high or low relative to height,\n",
    "objective index of body weight (kg / m ^ 2) using the ratio of height to weight, ideally 18.5 to 24.9\n",
    "1. children: Number of children covered by health insurance / Number of dependents\n",
    "1. smoker: Smoking\n",
    "1. region: the beneficiary's residential area in the US, northeast, southeast, southwest, northwest.\n",
    "1. charges: Individual medical costs billed by health insurance"
   ],
   "id": "4b1a19ebe6178e0e"
  }
 ],
 "metadata": {
  "kernelspec": {
   "display_name": "Python 3",
   "language": "python",
   "name": "python3"
  },
  "language_info": {
   "codemirror_mode": {
    "name": "ipython",
    "version": 2
   },
   "file_extension": ".py",
   "mimetype": "text/x-python",
   "name": "python",
   "nbconvert_exporter": "python",
   "pygments_lexer": "ipython2",
   "version": "2.7.6"
  }
 },
 "nbformat": 4,
 "nbformat_minor": 5
}
